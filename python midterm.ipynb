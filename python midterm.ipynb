{
 "cells": [
  {
   "cell_type": "code",
   "execution_count": 8,
   "metadata": {},
   "outputs": [
    {
     "name": "stdout",
     "output_type": "stream",
     "text": [
      "SVT\n",
      "DGE\n",
      "SKG\n",
      "RIO\n",
      "IHG\n",
      "AUTO\n"
     ]
    }
   ],
   "source": [
    "import requests\n",
    "import pandas\n",
    "import numpy\n",
    "\n",
    "response = requests.post(\"https://ies-midterm.soulution.rocks/login\", json = {\"cuni\" : \"68818113\"})\n",
    "\n",
    "print(response.json()['data']['personal_code'])\n",
    "\n",
    "datasetParts = response.json()['data']['dataset_ids']\n",
    "\n",
    "dataframes = {}\n",
    "\n",
    "for part in datasetParts:\n",
    "    endpoint = \"https://ies-midterm.soulution.rocks/data/\" + part\n",
    "    \n",
    "    partResponse = requests.get(endpoint)\n",
    "    while partResponse.json()['data'] == {}:\n",
    "        partResponse = requests.get(endpoint)\n",
    "    \n",
    "    name = partResponse.json()['data']['company']\n",
    "    print(name)\n",
    "    dataframes[name] = pandas.DataFrame.from_dict(partResponse.json()['data']['data'])\n",
    "    dataframes[name].drop(dataframes[name].tail(1).index,inplace=True)"
   ]
  },
  {
   "cell_type": "markdown",
   "metadata": {},
   "source": [
    "the time series should be from 2019-01-02 to 2020-11-20. Is it the case in your sample?"
   ]
  },
  {
   "cell_type": "code",
   "execution_count": 34,
   "metadata": {},
   "outputs": [
    {
     "name": "stdout",
     "output_type": "stream",
     "text": [
      "Company: SVT\n",
      "True\n",
      "Company: DGE\n",
      "True\n",
      "Company: SKG\n",
      "True\n",
      "Company: RIO\n",
      "True\n",
      "Company: IHG\n",
      "True\n",
      "Company: AUTO\n",
      "True\n"
     ]
    }
   ],
   "source": [
    "for company in dataframes:\n",
    "    print(\"Company: \" + company)\n",
    "    DF = dataframes[company]\n",
    "\n",
    "    #1\n",
    "    first = DF['Date'][0]\n",
    "    last = DF['Date'][DF['Date'].size - 1]\n",
    "    print(first == '2019-01-02' and last == '2020-11-20')"
   ]
  },
  {
   "cell_type": "markdown",
   "metadata": {},
   "source": [
    "what is the highest and lowest Adj Close price the company recorded?"
   ]
  },
  {
   "cell_type": "code",
   "execution_count": 16,
   "metadata": {},
   "outputs": [
    {
     "name": "stdout",
     "output_type": "stream",
     "text": [
      "Company: SVT\n",
      "5.960000038146973\n",
      "13.249180793762207\n",
      "Company: DGE\n",
      "709.1900024414062\n",
      "1045.1099853515625\n",
      "Company: SKG\n",
      "6990.0\n",
      "15863.599609375\n",
      "Company: RIO\n",
      "35.546142578125\n",
      "65.43000030517578\n",
      "Company: IHG\n",
      "27.81444549560547\n",
      "68.31763458251953\n",
      "Company: AUTO\n",
      "0.6700000166893005\n",
      "5.369999885559082\n"
     ]
    }
   ],
   "source": [
    "for company in dataframes:\n",
    "    print(\"Company: \" + company)\n",
    "    DF = dataframes[company]\n",
    "    \n",
    "    print(DF['Adj.Close'].astype(float).min())\n",
    "    print(DF['Adj.Close'].astype(float).max())"
   ]
  },
  {
   "cell_type": "markdown",
   "metadata": {},
   "source": [
    "what day was the highest number of shares traded"
   ]
  },
  {
   "cell_type": "code",
   "execution_count": 18,
   "metadata": {},
   "outputs": [
    {
     "name": "stdout",
     "output_type": "stream",
     "text": [
      "Company: SVT\n",
      "2019-03-15\n",
      "Company: DGE\n",
      "2019-01-02\n",
      "Company: SKG\n",
      "2020-04-23\n",
      "Company: RIO\n",
      "2019-03-19\n",
      "Company: IHG\n",
      "2020-03-26\n",
      "Company: AUTO\n",
      "2020-08-27\n"
     ]
    }
   ],
   "source": [
    "for company in dataframes:\n",
    "    print(\"Company: \" + company)\n",
    "    DF = dataframes[company]\n",
    "    \n",
    "    print(DF['Date'][DF['Volume'].astype(float).argmax()])"
   ]
  },
  {
   "cell_type": "markdown",
   "metadata": {},
   "source": [
    "what is the total of shares traded "
   ]
  },
  {
   "cell_type": "code",
   "execution_count": 19,
   "metadata": {},
   "outputs": [
    {
     "name": "stdout",
     "output_type": "stream",
     "text": [
      "Company: SVT\n",
      "1529700.0\n",
      "Company: DGE\n",
      "0.0\n",
      "Company: SKG\n",
      "69129712.0\n",
      "Company: RIO\n",
      "1125708200.0\n",
      "Company: IHG\n",
      "111270300.0\n",
      "Company: AUTO\n",
      "95550500.0\n"
     ]
    }
   ],
   "source": [
    "for company in dataframes:\n",
    "    print(\"Company: \" + company)\n",
    "    DF = dataframes[company]\n",
    "    \n",
    "    print(DF['Volume'].astype(float).sum())"
   ]
  },
  {
   "cell_type": "markdown",
   "metadata": {},
   "source": [
    "for the company with the highest volume of shares traded over the whole period, plot\n",
    "their share price over time "
   ]
  },
  {
   "cell_type": "code",
   "execution_count": null,
   "metadata": {},
   "outputs": [],
   "source": [
    "for company in dataframes:\n",
    "    print(\"Company: \" + company)\n",
    "    DF = dataframes[company]\n",
    "    \n",
    "    "
   ]
  },
  {
   "cell_type": "markdown",
   "metadata": {},
   "source": [
    "when did the company record the highest gain and highest loss for the day? (logarithmic\n",
    "loss) "
   ]
  },
  {
   "cell_type": "code",
   "execution_count": 33,
   "metadata": {},
   "outputs": [
    {
     "name": "stdout",
     "output_type": "stream",
     "text": [
      "Company: SVT\n",
      "2020-05-13\n",
      "2020-11-16\n",
      "Company: DGE\n",
      "2020-03-13\n",
      "2020-03-16\n",
      "Company: SKG\n",
      "2020-06-10\n",
      "2019-01-22\n",
      "Company: RIO\n",
      "2020-03-24\n",
      "2020-03-09\n",
      "Company: IHG\n",
      "2020-03-24\n",
      "2020-03-16\n",
      "Company: AUTO\n",
      "2020-03-25\n",
      "2020-11-06\n"
     ]
    }
   ],
   "source": [
    "for company in dataframes:\n",
    "    print(\"Company: \" + company)\n",
    "    DF = dataframes[company]\n",
    "    \n",
    "    ret = numpy.log(DF['Close'].astype(float)).diff()    \n",
    "    print(DF['Date'][ret.argmax()])\n",
    "    print(DF['Date'][ret.argmin()])"
   ]
  },
  {
   "cell_type": "code",
   "execution_count": null,
   "metadata": {},
   "outputs": [],
   "source": []
  }
 ],
 "metadata": {
  "kernelspec": {
   "display_name": "Python 3",
   "language": "python",
   "name": "python3"
  },
  "language_info": {
   "codemirror_mode": {
    "name": "ipython",
    "version": 3
   },
   "file_extension": ".py",
   "mimetype": "text/x-python",
   "name": "python",
   "nbconvert_exporter": "python",
   "pygments_lexer": "ipython3",
   "version": "3.8.3"
  }
 },
 "nbformat": 4,
 "nbformat_minor": 4
}
